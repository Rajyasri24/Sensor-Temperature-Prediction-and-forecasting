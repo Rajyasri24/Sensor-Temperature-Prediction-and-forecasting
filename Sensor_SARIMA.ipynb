{
  "nbformat": 4,
  "nbformat_minor": 0,
  "metadata": {
    "colab": {
      "provenance": []
    },
    "kernelspec": {
      "name": "python3",
      "display_name": "Python 3"
    },
    "language_info": {
      "name": "python"
    }
  },
  "cells": [
    {
      "cell_type": "code",
      "execution_count": null,
      "metadata": {
        "id": "JScngEo49_cd"
      },
      "outputs": [],
      "source": [
        "import numpy as np\n",
        "import pandas as pd\n",
        "import matplotlib.pyplot as plt \n",
        "from statsmodels.tsa.arima.model import ARIMA\n",
        "from sklearn.metrics import mean_squared_error"
      ]
    },
    {
      "cell_type": "code",
      "source": [
        "{sensor1:{date:[],sensorvalue:[]}}"
      ],
      "metadata": {
        "id": "hBb4zmM8l_7g"
      },
      "execution_count": null,
      "outputs": []
    },
    {
      "cell_type": "code",
      "source": [
        "import os\n",
        "for dirname, _, filenames in os.walk('C:/Users/rajyasri/Downloads/Sample_SensorVariation.csv'):\n",
        "    for filename in filenames:\n",
        "        print(os.path.join(dirname, filename))"
      ],
      "metadata": {
        "id": "FB8lktaV-IbJ"
      },
      "execution_count": null,
      "outputs": []
    },
    {
      "cell_type": "code",
      "source": [
        "data = pd.read_csv('/content/Sample_SensorVariation.csv', index_col='Date', parse_dates=True)"
      ],
      "metadata": {
        "id": "GrJDouSw-QmM"
      },
      "execution_count": null,
      "outputs": []
    },
    {
      "cell_type": "code",
      "source": [
        "data.head()"
      ],
      "metadata": {
        "colab": {
          "base_uri": "https://localhost:8080/",
          "height": 237
        },
        "id": "Y6AnmL_d-fjW",
        "outputId": "aace5df0-3e9d-4c43-c7b4-2574929028e3"
      },
      "execution_count": null,
      "outputs": [
        {
          "output_type": "execute_result",
          "data": {
            "text/plain": [
              "            index  Actual       sin  Original       Sum  prediction   Noise  \\\n",
              "Date                                                                          \n",
              "2023-05-15      1       0  0.000000     0.000  0.000000         NaN  0.0081   \n",
              "2023-05-16      2      15  0.258819     0.002  0.260819         NaN -0.0010   \n",
              "2023-05-17      3      30  0.500000     0.004  0.504000         NaN  0.0068   \n",
              "2023-05-18      4      45  0.707107     0.006  0.713107         NaN -0.0027   \n",
              "2023-05-19      5      60  0.866025     0.008  0.874025         NaN  0.0060   \n",
              "\n",
              "            Rise_t  Drift    Rise  \n",
              "Date                               \n",
              "2023-05-15  0.0081    0.1  0.1081  \n",
              "2023-05-16  0.0010    0.1  0.1010  \n",
              "2023-05-17  0.0108    0.1  0.1108  \n",
              "2023-05-18  0.0033    0.1  0.1033  \n",
              "2023-05-19  0.0140    0.1  0.1140  "
            ],
            "text/html": [
              "\n",
              "  <div id=\"df-5578d953-50b0-4d86-94b0-968479cc0160\">\n",
              "    <div class=\"colab-df-container\">\n",
              "      <div>\n",
              "<style scoped>\n",
              "    .dataframe tbody tr th:only-of-type {\n",
              "        vertical-align: middle;\n",
              "    }\n",
              "\n",
              "    .dataframe tbody tr th {\n",
              "        vertical-align: top;\n",
              "    }\n",
              "\n",
              "    .dataframe thead th {\n",
              "        text-align: right;\n",
              "    }\n",
              "</style>\n",
              "<table border=\"1\" class=\"dataframe\">\n",
              "  <thead>\n",
              "    <tr style=\"text-align: right;\">\n",
              "      <th></th>\n",
              "      <th>index</th>\n",
              "      <th>Actual</th>\n",
              "      <th>sin</th>\n",
              "      <th>Original</th>\n",
              "      <th>Sum</th>\n",
              "      <th>prediction</th>\n",
              "      <th>Noise</th>\n",
              "      <th>Rise_t</th>\n",
              "      <th>Drift</th>\n",
              "      <th>Rise</th>\n",
              "    </tr>\n",
              "    <tr>\n",
              "      <th>Date</th>\n",
              "      <th></th>\n",
              "      <th></th>\n",
              "      <th></th>\n",
              "      <th></th>\n",
              "      <th></th>\n",
              "      <th></th>\n",
              "      <th></th>\n",
              "      <th></th>\n",
              "      <th></th>\n",
              "      <th></th>\n",
              "    </tr>\n",
              "  </thead>\n",
              "  <tbody>\n",
              "    <tr>\n",
              "      <th>2023-05-15</th>\n",
              "      <td>1</td>\n",
              "      <td>0</td>\n",
              "      <td>0.000000</td>\n",
              "      <td>0.000</td>\n",
              "      <td>0.000000</td>\n",
              "      <td>NaN</td>\n",
              "      <td>0.0081</td>\n",
              "      <td>0.0081</td>\n",
              "      <td>0.1</td>\n",
              "      <td>0.1081</td>\n",
              "    </tr>\n",
              "    <tr>\n",
              "      <th>2023-05-16</th>\n",
              "      <td>2</td>\n",
              "      <td>15</td>\n",
              "      <td>0.258819</td>\n",
              "      <td>0.002</td>\n",
              "      <td>0.260819</td>\n",
              "      <td>NaN</td>\n",
              "      <td>-0.0010</td>\n",
              "      <td>0.0010</td>\n",
              "      <td>0.1</td>\n",
              "      <td>0.1010</td>\n",
              "    </tr>\n",
              "    <tr>\n",
              "      <th>2023-05-17</th>\n",
              "      <td>3</td>\n",
              "      <td>30</td>\n",
              "      <td>0.500000</td>\n",
              "      <td>0.004</td>\n",
              "      <td>0.504000</td>\n",
              "      <td>NaN</td>\n",
              "      <td>0.0068</td>\n",
              "      <td>0.0108</td>\n",
              "      <td>0.1</td>\n",
              "      <td>0.1108</td>\n",
              "    </tr>\n",
              "    <tr>\n",
              "      <th>2023-05-18</th>\n",
              "      <td>4</td>\n",
              "      <td>45</td>\n",
              "      <td>0.707107</td>\n",
              "      <td>0.006</td>\n",
              "      <td>0.713107</td>\n",
              "      <td>NaN</td>\n",
              "      <td>-0.0027</td>\n",
              "      <td>0.0033</td>\n",
              "      <td>0.1</td>\n",
              "      <td>0.1033</td>\n",
              "    </tr>\n",
              "    <tr>\n",
              "      <th>2023-05-19</th>\n",
              "      <td>5</td>\n",
              "      <td>60</td>\n",
              "      <td>0.866025</td>\n",
              "      <td>0.008</td>\n",
              "      <td>0.874025</td>\n",
              "      <td>NaN</td>\n",
              "      <td>0.0060</td>\n",
              "      <td>0.0140</td>\n",
              "      <td>0.1</td>\n",
              "      <td>0.1140</td>\n",
              "    </tr>\n",
              "  </tbody>\n",
              "</table>\n",
              "</div>\n",
              "      <button class=\"colab-df-convert\" onclick=\"convertToInteractive('df-5578d953-50b0-4d86-94b0-968479cc0160')\"\n",
              "              title=\"Convert this dataframe to an interactive table.\"\n",
              "              style=\"display:none;\">\n",
              "        \n",
              "  <svg xmlns=\"http://www.w3.org/2000/svg\" height=\"24px\"viewBox=\"0 0 24 24\"\n",
              "       width=\"24px\">\n",
              "    <path d=\"M0 0h24v24H0V0z\" fill=\"none\"/>\n",
              "    <path d=\"M18.56 5.44l.94 2.06.94-2.06 2.06-.94-2.06-.94-.94-2.06-.94 2.06-2.06.94zm-11 1L8.5 8.5l.94-2.06 2.06-.94-2.06-.94L8.5 2.5l-.94 2.06-2.06.94zm10 10l.94 2.06.94-2.06 2.06-.94-2.06-.94-.94-2.06-.94 2.06-2.06.94z\"/><path d=\"M17.41 7.96l-1.37-1.37c-.4-.4-.92-.59-1.43-.59-.52 0-1.04.2-1.43.59L10.3 9.45l-7.72 7.72c-.78.78-.78 2.05 0 2.83L4 21.41c.39.39.9.59 1.41.59.51 0 1.02-.2 1.41-.59l7.78-7.78 2.81-2.81c.8-.78.8-2.07 0-2.86zM5.41 20L4 18.59l7.72-7.72 1.47 1.35L5.41 20z\"/>\n",
              "  </svg>\n",
              "      </button>\n",
              "      \n",
              "  <style>\n",
              "    .colab-df-container {\n",
              "      display:flex;\n",
              "      flex-wrap:wrap;\n",
              "      gap: 12px;\n",
              "    }\n",
              "\n",
              "    .colab-df-convert {\n",
              "      background-color: #E8F0FE;\n",
              "      border: none;\n",
              "      border-radius: 50%;\n",
              "      cursor: pointer;\n",
              "      display: none;\n",
              "      fill: #1967D2;\n",
              "      height: 32px;\n",
              "      padding: 0 0 0 0;\n",
              "      width: 32px;\n",
              "    }\n",
              "\n",
              "    .colab-df-convert:hover {\n",
              "      background-color: #E2EBFA;\n",
              "      box-shadow: 0px 1px 2px rgba(60, 64, 67, 0.3), 0px 1px 3px 1px rgba(60, 64, 67, 0.15);\n",
              "      fill: #174EA6;\n",
              "    }\n",
              "\n",
              "    [theme=dark] .colab-df-convert {\n",
              "      background-color: #3B4455;\n",
              "      fill: #D2E3FC;\n",
              "    }\n",
              "\n",
              "    [theme=dark] .colab-df-convert:hover {\n",
              "      background-color: #434B5C;\n",
              "      box-shadow: 0px 1px 3px 1px rgba(0, 0, 0, 0.15);\n",
              "      filter: drop-shadow(0px 1px 2px rgba(0, 0, 0, 0.3));\n",
              "      fill: #FFFFFF;\n",
              "    }\n",
              "  </style>\n",
              "\n",
              "      <script>\n",
              "        const buttonEl =\n",
              "          document.querySelector('#df-5578d953-50b0-4d86-94b0-968479cc0160 button.colab-df-convert');\n",
              "        buttonEl.style.display =\n",
              "          google.colab.kernel.accessAllowed ? 'block' : 'none';\n",
              "\n",
              "        async function convertToInteractive(key) {\n",
              "          const element = document.querySelector('#df-5578d953-50b0-4d86-94b0-968479cc0160');\n",
              "          const dataTable =\n",
              "            await google.colab.kernel.invokeFunction('convertToInteractive',\n",
              "                                                     [key], {});\n",
              "          if (!dataTable) return;\n",
              "\n",
              "          const docLinkHtml = 'Like what you see? Visit the ' +\n",
              "            '<a target=\"_blank\" href=https://colab.research.google.com/notebooks/data_table.ipynb>data table notebook</a>'\n",
              "            + ' to learn more about interactive tables.';\n",
              "          element.innerHTML = '';\n",
              "          dataTable['output_type'] = 'display_data';\n",
              "          await google.colab.output.renderOutput(dataTable, element);\n",
              "          const docLink = document.createElement('div');\n",
              "          docLink.innerHTML = docLinkHtml;\n",
              "          element.appendChild(docLink);\n",
              "        }\n",
              "      </script>\n",
              "    </div>\n",
              "  </div>\n",
              "  "
            ]
          },
          "metadata": {},
          "execution_count": 27
        }
      ]
    },
    {
      "cell_type": "code",
      "source": [
        "print(data.Rise)"
      ],
      "metadata": {
        "colab": {
          "base_uri": "https://localhost:8080/"
        },
        "id": "KANypoH68Q_0",
        "outputId": "73e1367d-57bc-4620-9310-644b801fe268"
      },
      "execution_count": null,
      "outputs": [
        {
          "output_type": "stream",
          "name": "stdout",
          "text": [
            "Date\n",
            "2023-05-15    0.1081\n",
            "2023-05-16    0.1010\n",
            "2023-05-17    0.1108\n",
            "2023-05-18    0.1033\n",
            "2023-05-19    0.1140\n",
            "               ...  \n",
            "2024-05-04    4.3099\n",
            "2024-05-05    4.3052\n",
            "2024-05-06    4.3042\n",
            "2024-05-07    4.3258\n",
            "2024-05-08    4.3129\n",
            "Name: Rise, Length: 360, dtype: float64\n"
          ]
        }
      ]
    },
    {
      "cell_type": "code",
      "source": [
        "data['Rise'].plot(figsize=(12,5))"
      ],
      "metadata": {
        "colab": {
          "base_uri": "https://localhost:8080/",
          "height": 498
        },
        "id": "nX28zhFf7ztv",
        "outputId": "112c094e-f32c-40cd-eed3-18917d10c758"
      },
      "execution_count": null,
      "outputs": [
        {
          "output_type": "execute_result",
          "data": {
            "text/plain": [
              "<Axes: xlabel='Date'>"
            ]
          },
          "metadata": {},
          "execution_count": 29
        },
        {
          "output_type": "display_data",
          "data": {
            "text/plain": [
              "<Figure size 1200x500 with 1 Axes>"
            ],
            "image/png": "[encoded data removed]"
          },
          "metadata": {}
        }
      ]
    },
    {
      "cell_type": "code",
      "source": [
        "data=data.drop( ['index','Actual','sin','Original','Sum','Noise','Rise_t','Drift','prediction'], axis=1)\n",
        "data.head()"
      ],
      "metadata": {
        "colab": {
          "base_uri": "https://localhost:8080/",
          "height": 237
        },
        "id": "4CxRAijxFaRs",
        "outputId": "c00cc91f-91f9-4b17-ca4b-6c2287b55f31"
      },
      "execution_count": null,
      "outputs": [
        {
          "output_type": "execute_result",
          "data": {
            "text/plain": [
              "              Rise\n",
              "Date              \n",
              "2023-05-15  0.1081\n",
              "2023-05-16  0.1010\n",
              "2023-05-17  0.1108\n",
              "2023-05-18  0.1033\n",
              "2023-05-19  0.1140"
            ],
            "text/html": [
              "\n",
              "  <div id=\"df-21ef075a-03ef-4163-a9f8-9694ad38af94\">\n",
              "    <div class=\"colab-df-container\">\n",
              "      <div>\n",
              "<style scoped>\n",
              "    .dataframe tbody tr th:only-of-type {\n",
              "        vertical-align: middle;\n",
              "    }\n",
              "\n",
              "    .dataframe tbody tr th {\n",
              "        vertical-align: top;\n",
              "    }\n",
              "\n",
              "    .dataframe thead th {\n",
              "        text-align: right;\n",
              "    }\n",
              "</style>\n",
              "<table border=\"1\" class=\"dataframe\">\n",
              "  <thead>\n",
              "    <tr style=\"text-align: right;\">\n",
              "      <th></th>\n",
              "      <th>Rise</th>\n",
              "    </tr>\n",
              "    <tr>\n",
              "      <th>Date</th>\n",
              "      <th></th>\n",
              "    </tr>\n",
              "  </thead>\n",
              "  <tbody>\n",
              "    <tr>\n",
              "      <th>2023-05-15</th>\n",
              "      <td>0.1081</td>\n",
              "    </tr>\n",
              "    <tr>\n",
              "      <th>2023-05-16</th>\n",
              "      <td>0.1010</td>\n",
              "    </tr>\n",
              "    <tr>\n",
              "      <th>2023-05-17</th>\n",
              "      <td>0.1108</td>\n",
              "    </tr>\n",
              "    <tr>\n",
              "      <th>2023-05-18</th>\n",
              "      <td>0.1033</td>\n",
              "    </tr>\n",
              "    <tr>\n",
              "      <th>2023-05-19</th>\n",
              "      <td>0.1140</td>\n",
              "    </tr>\n",
              "  </tbody>\n",
              "</table>\n",
              "</div>\n",
              "      <button class=\"colab-df-convert\" onclick=\"convertToInteractive('df-21ef075a-03ef-4163-a9f8-9694ad38af94')\"\n",
              "              title=\"Convert this dataframe to an interactive table.\"\n",
              "              style=\"display:none;\">\n",
              "        \n",
              "  <svg xmlns=\"http://www.w3.org/2000/svg\" height=\"24px\"viewBox=\"0 0 24 24\"\n",
              "       width=\"24px\">\n",
              "    <path d=\"M0 0h24v24H0V0z\" fill=\"none\"/>\n",
              "    <path d=\"M18.56 5.44l.94 2.06.94-2.06 2.06-.94-2.06-.94-.94-2.06-.94 2.06-2.06.94zm-11 1L8.5 8.5l.94-2.06 2.06-.94-2.06-.94L8.5 2.5l-.94 2.06-2.06.94zm10 10l.94 2.06.94-2.06 2.06-.94-2.06-.94-.94-2.06-.94 2.06-2.06.94z\"/><path d=\"M17.41 7.96l-1.37-1.37c-.4-.4-.92-.59-1.43-.59-.52 0-1.04.2-1.43.59L10.3 9.45l-7.72 7.72c-.78.78-.78 2.05 0 2.83L4 21.41c.39.39.9.59 1.41.59.51 0 1.02-.2 1.41-.59l7.78-7.78 2.81-2.81c.8-.78.8-2.07 0-2.86zM5.41 20L4 18.59l7.72-7.72 1.47 1.35L5.41 20z\"/>\n",
              "  </svg>\n",
              "      </button>\n",
              "      \n",
              "  <style>\n",
              "    .colab-df-container {\n",
              "      display:flex;\n",
              "      flex-wrap:wrap;\n",
              "      gap: 12px;\n",
              "    }\n",
              "\n",
              "    .colab-df-convert {\n",
              "      background-color: #E8F0FE;\n",
              "      border: none;\n",
              "      border-radius: 50%;\n",
              "      cursor: pointer;\n",
              "      display: none;\n",
              "      fill: #1967D2;\n",
              "      height: 32px;\n",
              "      padding: 0 0 0 0;\n",
              "      width: 32px;\n",
              "    }\n",
              "\n",
              "    .colab-df-convert:hover {\n",
              "      background-color: #E2EBFA;\n",
              "      box-shadow: 0px 1px 2px rgba(60, 64, 67, 0.3), 0px 1px 3px 1px rgba(60, 64, 67, 0.15);\n",
              "      fill: #174EA6;\n",
              "    }\n",
              "\n",
              "    [theme=dark] .colab-df-convert {\n",
              "      background-color: #3B4455;\n",
              "      fill: #D2E3FC;\n",
              "    }\n",
              "\n",
              "    [theme=dark] .colab-df-convert:hover {\n",
              "      background-color: #434B5C;\n",
              "      box-shadow: 0px 1px 3px 1px rgba(0, 0, 0, 0.15);\n",
              "      filter: drop-shadow(0px 1px 2px rgba(0, 0, 0, 0.3));\n",
              "      fill: #FFFFFF;\n",
              "    }\n",
              "  </style>\n",
              "\n",
              "      <script>\n",
              "        const buttonEl =\n",
              "          document.querySelector('#df-21ef075a-03ef-4163-a9f8-9694ad38af94 button.colab-df-convert');\n",
              "        buttonEl.style.display =\n",
              "          google.colab.kernel.accessAllowed ? 'block' : 'none';\n",
              "\n",
              "        async function convertToInteractive(key) {\n",
              "          const element = document.querySelector('#df-21ef075a-03ef-4163-a9f8-9694ad38af94');\n",
              "          const dataTable =\n",
              "            await google.colab.kernel.invokeFunction('convertToInteractive',\n",
              "                                                     [key], {});\n",
              "          if (!dataTable) return;\n",
              "\n",
              "          const docLinkHtml = 'Like what you see? Visit the ' +\n",
              "            '<a target=\"_blank\" href=https://colab.research.google.com/notebooks/data_table.ipynb>data table notebook</a>'\n",
              "            + ' to learn more about interactive tables.';\n",
              "          element.innerHTML = '';\n",
              "          dataTable['output_type'] = 'display_data';\n",
              "          await google.colab.output.renderOutput(dataTable, element);\n",
              "          const docLink = document.createElement('div');\n",
              "          docLink.innerHTML = docLinkHtml;\n",
              "          element.appendChild(docLink);\n",
              "        }\n",
              "      </script>\n",
              "    </div>\n",
              "  </div>\n",
              "  "
            ]
          },
          "metadata": {},
          "execution_count": 30
        }
      ]
    },
    {
      "cell_type": "code",
      "source": [
        "from statsmodels.tsa.stattools import adfuller\n",
        "def adf_test(data):\n",
        "     dftest = adfuller(data, autolag = 'AIC')\n",
        "     print(\"1. ADF : \",dftest[0])\n",
        "     print(\"2. P-Value : \", dftest[1])\n",
        "     print(\"3. Num Of Lags : \", dftest[2])\n",
        "     print(\"4. Num Of Observations Used For ADF Regression:\",      dftest[3])\n",
        "     print(\"5. Critical Values :\")\n",
        "     for key, val in dftest[4].items():\n",
        "         print(\"\\t\",key, \": \", val)\n",
        "adf_test(data['Rise'])"
      ],
      "metadata": {
        "colab": {
          "base_uri": "https://localhost:8080/"
        },
        "id": "gphLTNpjhDmO",
        "outputId": "5e7a59c4-0f58-41e0-9656-bbe195253cf6"
      },
      "execution_count": null,
      "outputs": [
        {
          "output_type": "stream",
          "name": "stdout",
          "text": [
            "1. ADF :  0.08048861349588518\n",
            "2. P-Value :  0.9647034351624151\n",
            "3. Num Of Lags :  9\n",
            "4. Num Of Observations Used For ADF Regression: 350\n",
            "5. Critical Values :\n",
            "\t 1% :  -3.4491725955218655\n",
            "\t 5% :  -2.8698334971428574\n",
            "\t 10% :  -2.5711883591836733\n"
          ]
        }
      ]
    },
    {
      "cell_type": "code",
      "source": [
        "print(data.shape)\n",
        "train=data.iloc[:-30]\n",
        "test=data.iloc[-30:]\n",
        "print(train.shape,test.shape)"
      ],
      "metadata": {
        "colab": {
          "base_uri": "https://localhost:8080/"
        },
        "id": "g46YBPvvinQE",
        "outputId": "1e2515b0-2bc0-4116-d36d-a0c0f7afaae6"
      },
      "execution_count": null,
      "outputs": [
        {
          "output_type": "stream",
          "name": "stdout",
          "text": [
            "(360, 1)\n",
            "(330, 1) (30, 1)\n"
          ]
        }
      ]
    },
    {
      "cell_type": "code",
      "source": [
        "start=len(train)\n",
        "end=len(train)+len(test)-1\n",
        "print(start)\n",
        "print(end)"
      ],
      "metadata": {
        "colab": {
          "base_uri": "https://localhost:8080/"
        },
        "id": "58_qYNnHTC8Z",
        "outputId": "198bb212-02ed-4ae1-8a12-e251f2be7fd2"
      },
      "execution_count": null,
      "outputs": [
        {
          "output_type": "stream",
          "name": "stdout",
          "text": [
            "330\n",
            "359\n"
          ]
        }
      ]
    },
    {
      "cell_type": "code",
      "source": [
        "!pip install pmdarima "
      ],
      "metadata": {
        "colab": {
          "base_uri": "https://localhost:8080/"
        },
        "id": "iRChzXkuHwsr",
        "outputId": "abe60c28-0f7c-4976-a513-976b16657c6d"
      },
      "execution_count": null,
      "outputs": [
        {
          "output_type": "stream",
          "name": "stdout",
          "text": [
            "Looking in indexes: https://pypi.org/simple, https://us-python.pkg.dev/colab-wheels/public/simple/\n",
            "Requirement already satisfied: pmdarima in /usr/local/lib/python3.10/dist-packages (2.0.3)\n",
            "Requirement already satisfied: joblib>=0.11 in /usr/local/lib/python3.10/dist-packages (from pmdarima) (1.2.0)\n",
            "Requirement already satisfied: Cython!=0.29.18,!=0.29.31,>=0.29 in /usr/local/lib/python3.10/dist-packages (from pmdarima) (0.29.34)\n",
            "Requirement already satisfied: numpy>=1.21.2 in /usr/local/lib/python3.10/dist-packages (from pmdarima) (1.22.4)\n",
            "Requirement already satisfied: pandas>=0.19 in /usr/local/lib/python3.10/dist-packages (from pmdarima) (1.5.3)\n",
            "Requirement already satisfied: scikit-learn>=0.22 in /usr/local/lib/python3.10/dist-packages (from pmdarima) (1.2.2)\n",
            "Requirement already satisfied: scipy>=1.3.2 in /usr/local/lib/python3.10/dist-packages (from pmdarima) (1.10.1)\n",
            "Requirement already satisfied: statsmodels>=0.13.2 in /usr/local/lib/python3.10/dist-packages (from pmdarima) (0.13.5)\n",
            "Requirement already satisfied: urllib3 in /usr/local/lib/python3.10/dist-packages (from pmdarima) (1.26.15)\n",
            "Requirement already satisfied: setuptools!=50.0.0,>=38.6.0 in /usr/local/lib/python3.10/dist-packages (from pmdarima) (67.7.2)\n",
            "Requirement already satisfied: python-dateutil>=2.8.1 in /usr/local/lib/python3.10/dist-packages (from pandas>=0.19->pmdarima) (2.8.2)\n",
            "Requirement already satisfied: pytz>=2020.1 in /usr/local/lib/python3.10/dist-packages (from pandas>=0.19->pmdarima) (2022.7.1)\n",
            "Requirement already satisfied: threadpoolctl>=2.0.0 in /usr/local/lib/python3.10/dist-packages (from scikit-learn>=0.22->pmdarima) (3.1.0)\n",
            "Requirement already satisfied: patsy>=0.5.2 in /usr/local/lib/python3.10/dist-packages (from statsmodels>=0.13.2->pmdarima) (0.5.3)\n",
            "Requirement already satisfied: packaging>=21.3 in /usr/local/lib/python3.10/dist-packages (from statsmodels>=0.13.2->pmdarima) (23.1)\n",
            "Requirement already satisfied: six in /usr/local/lib/python3.10/dist-packages (from patsy>=0.5.2->statsmodels>=0.13.2->pmdarima) (1.16.0)\n"
          ]
        }
      ]
    },
    {
      "cell_type": "code",
      "source": [
        "#Seasonal - fit stepwise auto-ARIMA\n",
        "import pmdarima as pm\n",
        "smodel = pm.auto_arima(data, start_p=1, start_q=1,\n",
        "                         test='adf',\n",
        "                         max_p=3, max_q=3, m=7,\n",
        "                         start_P=0, seasonal=True,\n",
        "                         d=None, D=1, trace=True,\n",
        "                         error_action='ignore',  \n",
        "                         suppress_warnings=True, \n",
        "                         stepwise=True)\n",
        "\n",
        "smodel.summary()"
      ],
      "metadata": {
        "colab": {
          "base_uri": "https://localhost:8080/",
          "height": 1000
        },
        "id": "OXA3Z1GrdYFy",
        "outputId": "808dfd95-672f-4003-bd27-a0c12d8aa279"
      },
      "execution_count": null,
      "outputs": [
        {
          "output_type": "stream",
          "name": "stdout",
          "text": [
            "Performing stepwise search to minimize aic\n",
            " ARIMA(1,0,1)(0,1,1)[7] intercept   : AIC=inf, Time=2.65 sec\n",
            " ARIMA(0,0,0)(0,1,0)[7] intercept   : AIC=-1159.705, Time=0.14 sec\n",
            " ARIMA(1,0,0)(1,1,0)[7] intercept   : AIC=-1360.896, Time=1.70 sec\n",
            " ARIMA(0,0,1)(0,1,1)[7] intercept   : AIC=inf, Time=1.40 sec\n",
            " ARIMA(0,0,0)(0,1,0)[7]             : AIC=-654.401, Time=0.07 sec\n",
            " ARIMA(1,0,0)(0,1,0)[7] intercept   : AIC=-1269.794, Time=0.16 sec\n",
            " ARIMA(1,0,0)(2,1,0)[7] intercept   : AIC=-1510.175, Time=10.28 sec\n",
            " ARIMA(1,0,0)(2,1,1)[7] intercept   : AIC=-1474.811, Time=10.03 sec\n",
            " ARIMA(1,0,0)(1,1,1)[7] intercept   : AIC=inf, Time=7.40 sec\n",
            " ARIMA(0,0,0)(2,1,0)[7] intercept   : AIC=-1511.124, Time=9.46 sec\n",
            " ARIMA(0,0,0)(1,1,0)[7] intercept   : AIC=-1230.079, Time=2.57 sec\n",
            " ARIMA(0,0,0)(2,1,1)[7] intercept   : AIC=inf, Time=11.29 sec\n",
            " ARIMA(0,0,0)(1,1,1)[7] intercept   : AIC=inf, Time=3.71 sec\n",
            " ARIMA(0,0,1)(2,1,0)[7] intercept   : AIC=-1536.334, Time=4.76 sec\n",
            " ARIMA(0,0,1)(1,1,0)[7] intercept   : AIC=-1348.806, Time=1.22 sec\n",
            " ARIMA(0,0,1)(2,1,1)[7] intercept   : AIC=-1534.759, Time=4.91 sec\n",
            " ARIMA(0,0,1)(1,1,1)[7] intercept   : AIC=inf, Time=2.66 sec\n",
            " ARIMA(1,0,1)(2,1,0)[7] intercept   : AIC=-1560.555, Time=5.86 sec\n",
            " ARIMA(1,0,1)(1,1,0)[7] intercept   : AIC=-1369.680, Time=1.77 sec\n",
            " ARIMA(1,0,1)(2,1,1)[7] intercept   : AIC=inf, Time=5.26 sec\n",
            " ARIMA(1,0,1)(1,1,1)[7] intercept   : AIC=-1528.530, Time=2.10 sec\n",
            " ARIMA(2,0,1)(2,1,0)[7] intercept   : AIC=-1487.377, Time=6.40 sec\n",
            " ARIMA(1,0,2)(2,1,0)[7] intercept   : AIC=-1549.418, Time=3.99 sec\n",
            " ARIMA(0,0,2)(2,1,0)[7] intercept   : AIC=-1537.790, Time=3.90 sec\n",
            " ARIMA(2,0,0)(2,1,0)[7] intercept   : AIC=-1498.313, Time=4.95 sec\n",
            " ARIMA(2,0,2)(2,1,0)[7] intercept   : AIC=-1527.168, Time=5.24 sec\n",
            " ARIMA(1,0,1)(2,1,0)[7]             : AIC=-1432.342, Time=1.61 sec\n",
            "\n",
            "Best model:  ARIMA(1,0,1)(2,1,0)[7] intercept\n",
            "Total fit time: 115.568 seconds\n"
          ]
        },
        {
          "output_type": "execute_result",
          "data": {
            "text/plain": [
              "<class 'statsmodels.iolib.summary.Summary'>\n",
              "\"\"\"\n",
              "                                     SARIMAX Results                                      \n",
              "==========================================================================================\n",
              "Dep. Variable:                                  y   No. Observations:                  360\n",
              "Model:             SARIMAX(1, 0, 1)x(2, 1, [], 7)   Log Likelihood                 786.278\n",
              "Date:                            Sat, 27 May 2023   AIC                          -1560.555\n",
              "Time:                                    03:46:20   BIC                          -1537.356\n",
              "Sample:                                05-15-2023   HQIC                         -1551.324\n",
              "                                     - 05-08-2024                                         \n",
              "Covariance Type:                              opg                                         \n",
              "==============================================================================\n",
              "                 coef    std err          z      P>|z|      [0.025      0.975]\n",
              "------------------------------------------------------------------------------\n",
              "intercept      0.1137      0.027      4.279      0.000       0.062       0.166\n",
              "ar.L1          0.5004      0.110      4.563      0.000       0.285       0.715\n",
              "ma.L1         -0.8791      0.061    -14.463      0.000      -0.998      -0.760\n",
              "ar.S.L7       -0.7929      0.059    -13.374      0.000      -0.909      -0.677\n",
              "ar.S.L14      -0.9151      0.043    -21.212      0.000      -1.000      -0.831\n",
              "sigma2         0.0006   4.26e-05     13.247      0.000       0.000       0.001\n",
              "===================================================================================\n",
              "Ljung-Box (L1) (Q):                   0.03   Jarque-Bera (JB):               131.35\n",
              "Prob(Q):                              0.86   Prob(JB):                         0.00\n",
              "Heteroskedasticity (H):               0.98   Skew:                             1.22\n",
              "Prob(H) (two-sided):                  0.89   Kurtosis:                         4.73\n",
              "===================================================================================\n",
              "\n",
              "Warnings:\n",
              "[1] Covariance matrix calculated using the outer product of gradients (complex-step).\n",
              "\"\"\""
            ],
            "text/html": [
              "<table class=\"simpletable\">\n",
              "<caption>SARIMAX Results</caption>\n",
              "<tr>\n",
              "  <th>Dep. Variable:</th>                  <td>y</td>               <th>  No. Observations:  </th>    <td>360</td>   \n",
              "</tr>\n",
              "<tr>\n",
              "  <th>Model:</th>           <td>SARIMAX(1, 0, 1)x(2, 1, [], 7)</td> <th>  Log Likelihood     </th>  <td>786.278</td> \n",
              "</tr>\n",
              "<tr>\n",
              "  <th>Date:</th>                   <td>Sat, 27 May 2023</td>        <th>  AIC                </th> <td>-1560.555</td>\n",
              "</tr>\n",
              "<tr>\n",
              "  <th>Time:</th>                       <td>03:46:20</td>            <th>  BIC                </th> <td>-1537.356</td>\n",
              "</tr>\n",
              "<tr>\n",
              "  <th>Sample:</th>                    <td>05-15-2023</td>           <th>  HQIC               </th> <td>-1551.324</td>\n",
              "</tr>\n",
              "<tr>\n",
              "  <th></th>                          <td>- 05-08-2024</td>          <th>                     </th>     <td> </td>    \n",
              "</tr>\n",
              "<tr>\n",
              "  <th>Covariance Type:</th>               <td>opg</td>              <th>                     </th>     <td> </td>    \n",
              "</tr>\n",
              "</table>\n",
              "<table class=\"simpletable\">\n",
              "<tr>\n",
              "      <td></td>         <th>coef</th>     <th>std err</th>      <th>z</th>      <th>P>|z|</th>  <th>[0.025</th>    <th>0.975]</th>  \n",
              "</tr>\n",
              "<tr>\n",
              "  <th>intercept</th> <td>    0.1137</td> <td>    0.027</td> <td>    4.279</td> <td> 0.000</td> <td>    0.062</td> <td>    0.166</td>\n",
              "</tr>\n",
              "<tr>\n",
              "  <th>ar.L1</th>     <td>    0.5004</td> <td>    0.110</td> <td>    4.563</td> <td> 0.000</td> <td>    0.285</td> <td>    0.715</td>\n",
              "</tr>\n",
              "<tr>\n",
              "  <th>ma.L1</th>     <td>   -0.8791</td> <td>    0.061</td> <td>  -14.463</td> <td> 0.000</td> <td>   -0.998</td> <td>   -0.760</td>\n",
              "</tr>\n",
              "<tr>\n",
              "  <th>ar.S.L7</th>   <td>   -0.7929</td> <td>    0.059</td> <td>  -13.374</td> <td> 0.000</td> <td>   -0.909</td> <td>   -0.677</td>\n",
              "</tr>\n",
              "<tr>\n",
              "  <th>ar.S.L14</th>  <td>   -0.9151</td> <td>    0.043</td> <td>  -21.212</td> <td> 0.000</td> <td>   -1.000</td> <td>   -0.831</td>\n",
              "</tr>\n",
              "<tr>\n",
              "  <th>sigma2</th>    <td>    0.0006</td> <td> 4.26e-05</td> <td>   13.247</td> <td> 0.000</td> <td>    0.000</td> <td>    0.001</td>\n",
              "</tr>\n",
              "</table>\n",
              "<table class=\"simpletable\">\n",
              "<tr>\n",
              "  <th>Ljung-Box (L1) (Q):</th>     <td>0.03</td> <th>  Jarque-Bera (JB):  </th> <td>131.35</td>\n",
              "</tr>\n",
              "<tr>\n",
              "  <th>Prob(Q):</th>                <td>0.86</td> <th>  Prob(JB):          </th>  <td>0.00</td> \n",
              "</tr>\n",
              "<tr>\n",
              "  <th>Heteroskedasticity (H):</th> <td>0.98</td> <th>  Skew:              </th>  <td>1.22</td> \n",
              "</tr>\n",
              "<tr>\n",
              "  <th>Prob(H) (two-sided):</th>    <td>0.89</td> <th>  Kurtosis:          </th>  <td>4.73</td> \n",
              "</tr>\n",
              "</table><br/><br/>Warnings:<br/>[1] Covariance matrix calculated using the outer product of gradients (complex-step)."
            ]
          },
          "metadata": {},
          "execution_count": 35
        }
      ]
    },
    {
      "cell_type": "code",
      "source": [
        "#model=smodel.fit(train['Rise'])"
      ],
      "metadata": {
        "id": "PivaeM1ei-gc"
      },
      "execution_count": null,
      "outputs": []
    },
    {
      "cell_type": "code",
      "source": [
        "pred=smodel.predict(n_periods=500)\n",
        "print(pred)\n",
        "pred.plot(legend=True)"
      ],
      "metadata": {
        "colab": {
          "base_uri": "https://localhost:8080/",
          "height": 672
        },
        "id": "X7hpDGwES7vi",
        "outputId": "c58ad83b-27d3-41e5-8e50-3c8c78338507"
      },
      "execution_count": null,
      "outputs": [
        {
          "output_type": "stream",
          "name": "stdout",
          "text": [
            "2024-05-09     4.350996\n",
            "2024-05-10     4.441711\n",
            "2024-05-11     4.443212\n",
            "2024-05-12     4.430921\n",
            "2024-05-13     4.422212\n",
            "                ...    \n",
            "2025-09-16    10.320756\n",
            "2025-09-17    10.316806\n",
            "2025-09-18    10.335740\n",
            "2025-09-19    10.367881\n",
            "2025-09-20    10.368688\n",
            "Freq: D, Length: 500, dtype: float64\n"
          ]
        },
        {
          "output_type": "execute_result",
          "data": {
            "text/plain": [
              "<Axes: >"
            ]
          },
          "metadata": {},
          "execution_count": 37
        },
        {
          "output_type": "display_data",
          "data": {
            "text/plain": [
              "<Figure size 640x480 with 1 Axes>"
            ],
            "image/png": "[encoded data removed]"
          },
          "metadata": {}
        }
      ]
    },
    {
      "cell_type": "code",
      "source": [
        "plt.figure(figsize=(16, 3), dpi=150)\n",
        "  \n",
        "# using plot method to plot open prices.\n",
        "# in plot method we set the label and color of the curve.\n",
        "ax=data['Rise'].plot(label='Actual', color='Yellow',figsize=(12, 5))\n",
        "pred.plot(ax=ax,label='Future Predictions',color='Red',figsize=(12, 5))\n",
        "  \n",
        "# adding title to the plot\n",
        "plt.title('Sensor Prediction (SARIMA)')\n",
        "  \n",
        "# adding Label to the x-axis\n",
        "plt.xlabel('Days')\n",
        "  \n",
        "# adding legend to the curve\n",
        "plt.legend()"
      ],
      "metadata": {
        "id": "szZolptu2I8Y",
        "colab": {
          "base_uri": "https://localhost:8080/",
          "height": 779
        },
        "outputId": "fa743952-9987-4628-9273-026e55fd0fb3"
      },
      "execution_count": null,
      "outputs": [
        {
          "output_type": "execute_result",
          "data": {
            "text/plain": [
              "<matplotlib.legend.Legend at 0x7fa4a9912e60>"
            ]
          },
          "metadata": {},
          "execution_count": 39
        },
        {
          "output_type": "display_data",
          "data": {
            "text/plain": [
              "<Figure size 1800x750 with 1 Axes>"
            ],
            "image/png": "[encoded data removed]"
          },
          "metadata": {}
        }
      ]
    },
    {
      "cell_type": "code",
      "source": [],
      "metadata": {
        "id": "2Qsb-3PU5O8A"
      },
      "execution_count": null,
      "outputs": []
    }
  ]
}